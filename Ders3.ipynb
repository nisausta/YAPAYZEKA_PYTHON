{
  "nbformat": 4,
  "nbformat_minor": 0,
  "metadata": {
    "colab": {
      "provenance": []
    },
    "kernelspec": {
      "name": "python3",
      "display_name": "Python 3"
    },
    "language_info": {
      "name": "python"
    }
  },
  "cells": [
    {
      "cell_type": "code",
      "execution_count": null,
      "metadata": {
        "id": "xsk6Go5jYoEY"
      },
      "outputs": [],
      "source": [
        "print(\"Merhaba, İGÜ - YAPAY ZEKA - D9 Api\") # print ekrana çıktı veren bir koddur."
      ]
    },
    {
      "cell_type": "code",
      "source": [
        "import sys # import python programlama dilinde yazılıma kütüphane eklemeye yarayan bir kod blogudur.\n",
        "print(sys.version)"
      ],
      "metadata": {
        "id": "V3BaEReTY4OM"
      },
      "execution_count": null,
      "outputs": []
    },
    {
      "cell_type": "code",
      "source": [
        "from google.colab import drive # google colab - drive bağlantısı\n",
        "\n",
        "drive.mount('/content/drive')"
      ],
      "metadata": {
        "id": "ndP55PJIY4fb"
      },
      "execution_count": null,
      "outputs": []
    },
    {
      "cell_type": "code",
      "source": [
        "import os\n",
        "\n",
        "os.chdir('/content/drive/My Drive/YAPAYZEKA_PYTHON')\n",
        "\n",
        "!pwd # bize kodun çıktısını dosya yolu olarak veren kod blogudur.\n"
      ],
      "metadata": {
        "id": "0TVa_PhpY4iz"
      },
      "execution_count": null,
      "outputs": []
    },
    {
      "cell_type": "code",
      "source": [
        "import requests\n",
        "import xml.etree.ElementTree as ET\n",
        "import pandas as pd\n",
        "import numpy as np\n",
        "\n",
        "from urllib.request import urlopen\n",
        "from bs4 import BeautifulSoup\n",
        "\n",
        "link_bilgisi = \"https://www.tcmb.gov.tr/kurlar/today.xml\"\n",
        "gelen_yanit = requests.get(url=link_bilgisi)\n",
        "\n",
        "print(gelen_yanit.text)"
      ],
      "metadata": {
        "id": "o8uBnjGwY4lb"
      },
      "execution_count": null,
      "outputs": []
    },
    {
      "cell_type": "code",
      "source": [
        "tree = ET.parse(urlopen(link_bilgisi))\n",
        "\n",
        "root = tree.getroot()\n",
        "\n",
        "liste = []\n",
        "\n",
        "liste.append(root.findall('Currency'))"
      ],
      "metadata": {
        "id": "hBEzx512Y4oE"
      },
      "execution_count": null,
      "outputs": []
    },
    {
      "cell_type": "code",
      "source": [
        "for i in liste[0]:\n",
        "  currencyCode = i.get('Kod')\n",
        "  banknoteBuying = i.find(\"BanknoteSelling\").text\n",
        "  banknoteSelling = i.find(\"BanknoteBuying\").text\n",
        "\n",
        "  if currencyCode == \"USD\":\n",
        "    print(currencyCode, banknoteBuying, banknoteSelling)\n",
        "    result = float(banknoteBuying) - float(banknoteSelling)\n",
        "    print(\"USD Banka Alış Satış Arasındaki Kur Farkı ->\", result)\n",
        "\n",
        "  if currencyCode == \"EUR\":\n",
        "    print(currencyCode, banknoteBuying, banknoteSelling)\n",
        "    result = float(banknoteBuying) - float(banknoteSelling)\n",
        "    print(\"EUR Banka Alış Satış Arasındaki Kur Farkı ->\", result)"
      ],
      "metadata": {
        "id": "CohIvWpRY4qM"
      },
      "execution_count": null,
      "outputs": []
    },
    {
      "cell_type": "code",
      "source": [
        "import requests\n",
        "import xml.etree.ElementTree as ET\n",
        "import pandas as pd\n",
        "import numpy as np\n",
        "from urllib.request import urlopen\n",
        "from bs4 import BeautifulSoup\n",
        "import matplotlib.pyplot as plt\n",
        "\n",
        "baglanti_adresi = \"https://www.tcmb.gov.tr/kurlar/today.xml\"\n",
        "\n",
        "gelen_veri = requests.get(url=baglanti_adresi)\n",
        "print(gelen_veri.text)\n",
        "\n",
        "agac = ET.parse(urlopen(baglanti_adresi))\n",
        "kok = agac.getroot()\n",
        "\n",
        "para_birimleri = []\n",
        "\n",
        "para_birimleri.append(kok.findall('Currency'))\n",
        "\n",
        "for i in para_birimleri[0]:\n",
        "    paraBirimiKodu = i.get('Kod')\n",
        "    alisFiyati = i.find(\"BanknoteSelling\").text\n",
        "    satisFiyati = i.find(\"BanknoteBuying\").text\n",
        "\n",
        "    if paraBirimiKodu == \"USD\":\n",
        "        print(paraBirimiKodu, alisFiyati, satisFiyati)\n",
        "        fark = float(alisFiyati) - float(satisFiyati)\n",
        "        print(\"USD Banka Alış Satış Arasındaki Kur Farkı ->\", fark)\n",
        "\n",
        "    if paraBirimiKodu == \"EUR\":\n",
        "        print(paraBirimiKodu, alisFiyati, satisFiyati)\n",
        "        fark = float(alisFiyati) - float(satisFiyati)\n",
        "        print(\"EUR Banka Alış Satış Arasındaki Kur Farkı ->\", fark)\n",
        "\n",
        "veri = {\n",
        "    'Para Birimi': [],\n",
        "    'Alış Fiyatı': [],\n",
        "    'Satış Fiyatı': [],\n",
        "    'Fark': []\n",
        "}\n",
        "\n",
        "for i in para_birimleri[0]:\n",
        "    paraBirimiKodu = i.get('Kod')\n",
        "    alisFiyati = i.find(\"BanknoteSelling\").text\n",
        "    satisFiyati = i.find(\"BanknoteBuying\").text\n",
        "    if alisFiyati is not None and satisFiyati is not None:\n",
        "        fark = float(alisFiyati) - float(satisFiyati)\n",
        "        veri['Para Birimi'].append(paraBirimiKodu)\n",
        "        veri['Alış Fiyatı'].append(float(alisFiyati))\n",
        "        veri['Satış Fiyatı'].append(float(satisFiyati))\n",
        "        veri['Fark'].append(fark)\n",
        "\n",
        "df = pd.DataFrame(veri)\n",
        "\n",
        "plt.figure(figsize=(10, 6))\n",
        "plt.bar(df['Para Birimi'], df['Fark'], color='blue')\n",
        "plt.xlabel('Para Birimi')\n",
        "plt.ylabel('Alış-Satış Farkı')\n",
        "plt.title('Para Birimlerine Göre Alış-Satış Farkları')\n",
        "plt.show()"
      ],
      "metadata": {
        "id": "aBNY7TqPZOQk"
      },
      "execution_count": null,
      "outputs": []
    },
    {
      "cell_type": "code",
      "source": [
        "\n",
        "df_sorted = df.sort_values(by='Fark', ascending=False)\n",
        "\n",
        "plt.figure(figsize=(10, 6))\n",
        "plt.bar(df_sorted['Para Birimi'], df_sorted['Fark'], color='blue')\n",
        "plt.xlabel('Para Birimi')\n",
        "plt.ylabel('Alış-Satış Farkı')\n",
        "plt.title('En Fazla ve En Az İşlem Gören Para Birimleri')\n",
        "plt.xticks(rotation=45)\n",
        "plt.show()"
      ],
      "metadata": {
        "id": "6BAU5sQhZObD"
      },
      "execution_count": null,
      "outputs": []
    },
    {
      "cell_type": "code",
      "source": [
        "\n",
        "# CSV dosyasına kaydetme\n",
        "df_sorted.to_csv('kur_verileri_siralama.csv', index=False)\n",
        "\n",
        "print(\"Veriler 'kur_verileri_siralama.csv' dosyasına kaydedildi.\")"
      ],
      "metadata": {
        "id": "HNeuVoynZZDD"
      },
      "execution_count": null,
      "outputs": []
    },
    {
      "cell_type": "code",
      "source": [
        "\n",
        "import requests\n",
        "\n",
        "def hava_durumu_bilgisi_al(sehir, api_anahtari):\n",
        "    base_url = \"https://api.openweathermap.org/data/2.5/weather\"\n",
        "\n",
        "    params = {\"q\": sehir, \"appid\": api_anahtari, \"units\": \"metric\"}\n",
        "\n",
        "    try:\n",
        "        response = requests.get(base_url, params=params)\n",
        "        response.raise_for_status()\n",
        "\n",
        "        hava_durumu = response.json()\n",
        "\n",
        "        print(f\"Hava Durumu Bilgisi - {sehir}\")\n",
        "        print(f\"Sıcaklık: {hava_durumu['main']['temp']} °C\")\n",
        "        print(f\"Nem Oranı: {hava_durumu['main']['humidity']}%\")\n",
        "        print(f\"Açıklama: {hava_durumu['weather'][0]['description']}\")\n",
        "\n",
        "    except requests.exceptions.RequestException as err:\n",
        "        print(f\"Hata oluştu: {err}\")\n",
        "\n",
        "if __name__ == \"__main__\":\n",
        "    sehir_adı = input(\"Hava durumu bilgisini almak istediğiniz şehir adını girin: \")\n",
        "    api_key = input(\"OpenWeatherMap API anahtarınızı girin: \")\n",
        "\n",
        "    hava_durumu_bilgisi_al(sehir_adı, api_key)"
      ],
      "metadata": {
        "id": "j6HJ42ziZZIs"
      },
      "execution_count": null,
      "outputs": []
    },
    {
      "cell_type": "code",
      "source": [
        "import requests\n",
        "import matplotlib.pyplot as plt\n",
        "\n",
        "def hava_durumu_bilgisi_al(sehir, api_anahtari):\n",
        "    base_url = \"https://api.openweathermap.org/data/2.5/weather\"\n",
        "\n",
        "    params = {\"q\": sehir, \"appid\": api_anahtari, \"units\": \"metric\"}\n",
        "\n",
        "    try:\n",
        "        response = requests.get(base_url, params=params)\n",
        "        response.raise_for_status()\n",
        "\n",
        "        hava_durumu = response.json()\n",
        "\n",
        "        print(f\"Hava Durumu Bilgisi - {sehir}\")\n",
        "        print(f\"Sıcaklık: {hava_durumu['main']['temp']} °C\")\n",
        "        print(f\"Nem Oranı: {hava_durumu['main']['humidity']}%\")\n",
        "        print(f\"Açıklama: {hava_durumu['weather'][0]['description']}\")\n",
        "\n",
        "        veri = {\n",
        "            \"Sıcaklık (°C)\": hava_durumu['main']['temp'],\n",
        "            \"Nem Oranı (%)\": hava_durumu['main']['humidity']\n",
        "        }\n",
        "\n",
        "        plt.figure(figsize=(12, 10))\n",
        "\n",
        "        plt.subplot(2, 2, 1)\n",
        "        plt.bar(veri.keys(), veri.values(), color=['blue', 'green'])\n",
        "        plt.xlabel('Hava Durumu Özellikleri')\n",
        "        plt.ylabel('Değerler')\n",
        "        plt.title(f'{sehir} İçin Hava Durumu Bilgileri (Bar Grafiği)')\n",
        "\n",
        "        plt.subplot(2, 2, 2)\n",
        "        plt.pie(veri.values(), labels=veri.keys(), autopct='%1.1f%%', colors=['blue', 'green'])\n",
        "        plt.title(f'{sehir} İçin Hava Durumu Bilgileri (Daire Grafiği)')\n",
        "\n",
        "        plt.subplot(2, 2, 3)\n",
        "        plt.scatter(['Sıcaklık (°C)'], [veri['Sıcaklık (°C)']], color='red', s=100, label='Sıcaklık (°C)')\n",
        "        plt.scatter(['Nem Oranı (%)'], [veri['Nem Oranı (%)']], color='blue', s=100, label='Nem Oranı (%)')\n",
        "        plt.xlabel('Hava Durumu Özellikleri')\n",
        "        plt.ylabel('Değerler')\n",
        "        plt.title(f'{sehir} İçin Hava Durumu Bilgileri (Scatter Plot)')\n",
        "        plt.legend()\n",
        "\n",
        "        plt.subplot(2, 2, 4)\n",
        "        plt.hist([veri['Sıcaklık (°C)']], bins=2, color='red', label='Sıcaklık (°C)')\n",
        "        plt.hist([veri['Nem Oranı (%)']], bins=2, color='blue', label='Nem Oranı (%)', alpha=0.7)\n",
        "        plt.xlabel('Değerler')\n",
        "        plt.ylabel('Frekans')\n",
        "        plt.title(f'{sehir} İçin Hava Durumu Bilgileri (Histogram)')\n",
        "        plt.legend()\n",
        "\n",
        "        plt.tight_layout()\n",
        "        plt.show()\n",
        "\n",
        "    except requests.exceptions.RequestException as err:\n",
        "        print(f\"Hata oluştu: {err}\")\n",
        "\n",
        "if __name__ == \"__main__\":\n",
        "    sehir_adı = input(\"Hava durumu bilgisini almak istediğiniz şehir adını girin: \")\n",
        "    api_key = input(\"OpenWeatherMap API anahtarınızı girin: \")\n",
        "\n",
        "    hava_durumu_bilgisi_al(sehir_adı, api_key)\n"
      ],
      "metadata": {
        "id": "eIgvFCcsZr9k"
      },
      "execution_count": null,
      "outputs": []
    }
  ]
}