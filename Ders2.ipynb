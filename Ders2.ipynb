{
  "nbformat": 4,
  "nbformat_minor": 0,
  "metadata": {
    "colab": {
      "provenance": []
    },
    "kernelspec": {
      "name": "python3",
      "display_name": "Python 3"
    },
    "language_info": {
      "name": "python"
    }
  },
  "cells": [
    {
      "cell_type": "code",
      "execution_count": 65,
      "metadata": {
        "id": "Z3nD_Vc89KTJ",
        "colab": {
          "base_uri": "https://localhost:8080/"
        },
        "outputId": "f0f69b80-06c2-42f1-b192-bb1bea2e78c0"
      },
      "outputs": [
        {
          "output_type": "stream",
          "name": "stdout",
          "text": [
            "Merhaba, İGÜ - YAPAY ZEKA geliştirilmesi için kullanılacak kütüphaneler - D3\n"
          ]
        }
      ],
      "source": [
        "print(\"Merhaba, İGÜ - YAPAY ZEKA geliştirilmesi için kullanılacak kütüphaneler - D3\") # print ekrana çıktı veren bir koddur."
      ]
    },
    {
      "cell_type": "code",
      "source": [
        "import sys # import python programlama dilinde yazılıma kütüphane eklemeye yarayan bir kod blogudur.\n",
        "print(sys.version)"
      ],
      "metadata": {
        "id": "Tz_ui5fr9P9c",
        "colab": {
          "base_uri": "https://localhost:8080/"
        },
        "outputId": "e34844f5-7104-42df-da58-b7fee192bd36"
      },
      "execution_count": 66,
      "outputs": [
        {
          "output_type": "stream",
          "name": "stdout",
          "text": [
            "3.10.12 (main, Sep 11 2024, 15:47:36) [GCC 11.4.0]\n"
          ]
        }
      ]
    },
    {
      "cell_type": "code",
      "source": [
        "from google.colab import drive # google colab - drive bağlantısı\n",
        "\n",
        "drive.mount('/content/drive')"
      ],
      "metadata": {
        "id": "C2j4wGQE9Sqk",
        "colab": {
          "base_uri": "https://localhost:8080/"
        },
        "outputId": "2d5116d6-d843-47b5-df23-8c562e452a6b"
      },
      "execution_count": 67,
      "outputs": [
        {
          "output_type": "stream",
          "name": "stdout",
          "text": [
            "Drive already mounted at /content/drive; to attempt to forcibly remount, call drive.mount(\"/content/drive\", force_remount=True).\n"
          ]
        }
      ]
    },
    {
      "cell_type": "code",
      "source": [
        "import os\n",
        "\n",
        "os.chdir('/content/drive/My Drive/YAPAYZEKA_PYTHON')\n",
        "\n",
        "!pwd # bize kodun çıktısını dosya yolu olarak veren kod blogudur."
      ],
      "metadata": {
        "id": "qlHciV7m9W6r",
        "colab": {
          "base_uri": "https://localhost:8080/"
        },
        "outputId": "539f4eae-d862-4635-d0f6-c6f43fa44a66"
      },
      "execution_count": 68,
      "outputs": [
        {
          "output_type": "stream",
          "name": "stdout",
          "text": [
            "/content/drive/My Drive/YAPAYZEKA_PYTHON\n"
          ]
        }
      ]
    },
    {
      "cell_type": "markdown",
      "source": [
        "PYTHON PROGRAMLAMA DİLİ KÜTÜPHANELERİ - Scikit-Learn, TensorFlow, PyTorch, Keras\n"
      ],
      "metadata": {
        "id": "r2NEPDRP9css"
      }
    },
    {
      "cell_type": "code",
      "source": [
        "# CPU ve GPU teknolojisinin kullanımına göre olması gereken veri sayısı tablosu\n",
        "\n",
        "import pandas as pd\n",
        "\n",
        "tablo = {\n",
        "    \"Aralık\": [\"Küçük ölçekli\", \"Orta ölçekli\", \"Büyük ölçekli\", \"Hiper ölçekli\", \"Exascale\"],\n",
        "    \"Veri Sayısı\": [\"100 - 10,000\", \"10,000 - 100,000\", \"100,000 - Milyon\",  \"Milyon - Milyar\", \"Milyar - Trilyon\"],\n",
        "    \"CPU\": [\"Evet\", \"Evet\", \"Opsiyonel\", \"Hayır\", \"Hayır\"],\n",
        "    \"GPU\": [\"Hayır\", \"Opsiyonel\", \"Evet\", \"Evet\", \"Evet\"]\n",
        "}\n",
        "\n",
        "print(pd.DataFrame(tablo))"
      ],
      "metadata": {
        "id": "SRR58wvm9aOk",
        "colab": {
          "base_uri": "https://localhost:8080/"
        },
        "outputId": "5bb20b09-8a6a-4e86-8996-252a70854813"
      },
      "execution_count": 69,
      "outputs": [
        {
          "output_type": "stream",
          "name": "stdout",
          "text": [
            "          Aralık       Veri Sayısı        CPU        GPU\n",
            "0  Küçük ölçekli      100 - 10,000       Evet      Hayır\n",
            "1   Orta ölçekli  10,000 - 100,000       Evet  Opsiyonel\n",
            "2  Büyük ölçekli  100,000 - Milyon  Opsiyonel       Evet\n",
            "3  Hiper ölçekli   Milyon - Milyar      Hayır       Evet\n",
            "4       Exascale  Milyar - Trilyon      Hayır       Evet\n"
          ]
        }
      ]
    },
    {
      "cell_type": "markdown",
      "source": [
        "Kütüphane Kurulumunda dikkat edilmesi gereken en önemli konu:\n",
        "Genel kullanım bakımından python kütüphanesi kurucağımız zaman dikkat edilmesi gereken iki yapı bulunmaktadır. Bu yapılar \"pip\" ve \"pip3\"'tür.\n",
        "\n",
        "pip yapısı -> Python 2.x sürümlerini destekler.\n",
        "\n",
        "pip3 yapısı -> Python 3.x sürümlerini destekler."
      ],
      "metadata": {
        "id": "hpq7qzmE9qKE"
      }
    },
    {
      "cell_type": "code",
      "source": [
        "\n",
        "import pandas as pd\n",
        "\n",
        "# True Positive (TP), True Negative (TN), False Positive (FP), False Negative (FN)\n",
        "matris_bilgisi = {\n",
        "    \"Gerçek Pozitif\": [\"Doğru Pozitif (TP)\", \"Yanlış Negatif (FN)\"],\n",
        "    \"Gerçek Negatif\": [\"Yanlış Pozitif (FP)\", \"Doğru Negatif (TN)\"]\n",
        "}\n",
        "\n",
        "# DataFrame oluşturma\n",
        "matris = pd.DataFrame(matris_bilgisi, index=[\"Tahmin Pozitif\", \"Tahmin Negatif\"])\n",
        "\n",
        "# Tabloyu gösterme\n",
        "print(matris)"
      ],
      "metadata": {
        "id": "NPiAF2iO9xML",
        "colab": {
          "base_uri": "https://localhost:8080/"
        },
        "outputId": "df14637d-9532-428b-f2dd-9813cedba7d1"
      },
      "execution_count": 70,
      "outputs": [
        {
          "output_type": "stream",
          "name": "stdout",
          "text": [
            "                     Gerçek Pozitif       Gerçek Negatif\n",
            "Tahmin Pozitif   Doğru Pozitif (TP)  Yanlış Pozitif (FP)\n",
            "Tahmin Negatif  Yanlış Negatif (FN)   Doğru Negatif (TN)\n"
          ]
        }
      ]
    },
    {
      "cell_type": "markdown",
      "source": [
        "Karmaşıklık matrisinden sistemin doğruluğunu bulacağımız formül ->\n",
        "\n",
        "Dogruluk = TP+TN+FP+FN / TP+TN 'dir.\n",
        "\n",
        "Örneğin: TP = 50, TN = 40, FP = 5, FN = 5 ise; Dogruluk = 50 + 40 + 5 + 5 / 50 + 40 --> 0.9 -> % 90 olarak hesaplanmaktadır.\n",
        "\n",
        "%90 Model Doğruluk Oranı - %10 Modelin Hata Oranı 'dır.\n",
        "\n",
        "Hata oranını azaltmak için->\n",
        "\n",
        "Modelin iyileştirilmesi,\n",
        "Veri sayısının arttırılması,\n",
        "Eğitim adım sayısının değiştirilmesi,\n",
        "Veri seti içerisindeki farklı değişlenlerin - özelliklerin algoritmaya dahil edilmesi."
      ],
      "metadata": {
        "id": "gb2Zuo_-92AE"
      }
    },
    {
      "cell_type": "code",
      "source": [
        "# Scikit-Learn kütüphanesinin sisteme dahil edilmesi ve veri setinin işleme alınması\n",
        "\n",
        "!pip install -U scikit-learn\n"
      ],
      "metadata": {
        "id": "rPmZmw1x92yT",
        "colab": {
          "base_uri": "https://localhost:8080/"
        },
        "outputId": "f3f09895-2534-472c-dab7-bc86ab43e1a6"
      },
      "execution_count": 71,
      "outputs": [
        {
          "output_type": "stream",
          "name": "stdout",
          "text": [
            "Requirement already satisfied: scikit-learn in /usr/local/lib/python3.10/dist-packages (1.5.2)\n",
            "Requirement already satisfied: numpy>=1.19.5 in /usr/local/lib/python3.10/dist-packages (from scikit-learn) (1.26.4)\n",
            "Requirement already satisfied: scipy>=1.6.0 in /usr/local/lib/python3.10/dist-packages (from scikit-learn) (1.13.1)\n",
            "Requirement already satisfied: joblib>=1.2.0 in /usr/local/lib/python3.10/dist-packages (from scikit-learn) (1.4.2)\n",
            "Requirement already satisfied: threadpoolctl>=3.1.0 in /usr/local/lib/python3.10/dist-packages (from scikit-learn) (3.5.0)\n"
          ]
        }
      ]
    },
    {
      "cell_type": "markdown",
      "source": [
        "Scikit-Learn kütüphanesi:\n",
        "!pip install -U scikit-learn"
      ],
      "metadata": {
        "id": "XSvgF4_u97Ab"
      }
    },
    {
      "cell_type": "code",
      "source": [
        "\n",
        "from sklearn.datasets import fetch_california_housing\n",
        "import pandas as pd\n",
        "\n",
        "# California Housing veri setini yükleme\n",
        "housing = fetch_california_housing()\n",
        "\n",
        "# Özellikleri ve hedef değişkeni almak\n",
        "X = housing.data  # Bağımsız değişkenler (özellikler)\n",
        "y = housing.target  # Bağımlı değişken (fiyatlar)\n",
        "\n",
        "# Verileri bir DataFrame'e dönüştürme\n",
        "df = pd.DataFrame(X, columns=housing.feature_names)\n",
        "df['PRICE'] = y\n",
        "\n",
        "# İlk birkaç satırı görüntüleme\n",
        "print(df.head())"
      ],
      "metadata": {
        "id": "fTwh1Njs97ur",
        "colab": {
          "base_uri": "https://localhost:8080/"
        },
        "outputId": "388be0b9-96b9-4ab9-c610-59e624ef0903"
      },
      "execution_count": 72,
      "outputs": [
        {
          "output_type": "stream",
          "name": "stdout",
          "text": [
            "   MedInc  HouseAge  AveRooms  AveBedrms  Population  AveOccup  Latitude  \\\n",
            "0  8.3252      41.0  6.984127   1.023810       322.0  2.555556     37.88   \n",
            "1  8.3014      21.0  6.238137   0.971880      2401.0  2.109842     37.86   \n",
            "2  7.2574      52.0  8.288136   1.073446       496.0  2.802260     37.85   \n",
            "3  5.6431      52.0  5.817352   1.073059       558.0  2.547945     37.85   \n",
            "4  3.8462      52.0  6.281853   1.081081       565.0  2.181467     37.85   \n",
            "\n",
            "   Longitude  PRICE  \n",
            "0    -122.23  4.526  \n",
            "1    -122.22  3.585  \n",
            "2    -122.24  3.521  \n",
            "3    -122.25  3.413  \n",
            "4    -122.25  3.422  \n"
          ]
        }
      ]
    },
    {
      "cell_type": "code",
      "source": [
        "from sklearn.datasets import fetch_california_housing\n",
        "from sklearn.model_selection import train_test_split\n",
        "from sklearn.linear_model import LinearRegression\n",
        "from sklearn.metrics import mean_squared_error, r2_score\n",
        "import pandas as pd\n",
        "\n",
        "# California Housing veri setini yükleme\n",
        "housing = fetch_california_housing()\n",
        "df = pd.DataFrame(housing.data, columns=housing.feature_names)\n",
        "df['PRICE'] = housing.target\n",
        "\n",
        "# Özellikler ve hedef değişkeni ayırma\n",
        "X = df.drop('PRICE', axis=1)\n",
        "y = df['PRICE']\n",
        "\n",
        "# Veri setini bölme\n",
        "X_train, X_test, y_train, y_test = train_test_split(X, y, test_size=0.3, random_state=42)\n",
        "\n",
        "# Model oluşturma\n",
        "model = LinearRegression()\n",
        "model.fit(X_train, y_train)\n",
        "\n",
        "# Tahmin yapma\n",
        "predictions = model.predict(X_test)\n",
        "print(\"Tahmin Sonucları: \", predictions[:5])\n",
        "print(\"Gerçek Değerler: \", y_test[:5].values)\n",
        "\n",
        "# Sistemin Ortalama Hatası (MSE)\n",
        "mse = mean_squared_error(y_test, predictions)\n",
        "print(\"Mean Squared Error (MSE) Sonucu:\", mse)\n",
        "\n",
        "# Sistemin R-kare Hatası (R²)\n",
        "r2 = r2_score(y_test, predictions)\n",
        "print(\"R-squared (R²) Sonucu:\", r2)"
      ],
      "metadata": {
        "id": "KQXan3KY-Ae0",
        "colab": {
          "base_uri": "https://localhost:8080/"
        },
        "outputId": "3da4d7ac-3ad6-4905-acf7-2bd0c95fac55"
      },
      "execution_count": 73,
      "outputs": [
        {
          "output_type": "stream",
          "name": "stdout",
          "text": [
            "Tahmin Sonucları:  [0.72604907 1.76743383 2.71092161 2.83514727 2.60695807]\n",
            "Gerçek Değerler:  [0.477   0.458   5.00001 2.186   2.78   ]\n",
            "Mean Squared Error (MSE) Sonucu: 0.5305677824766758\n",
            "R-squared (R²) Sonucu: 0.595770232606166\n"
          ]
        }
      ]
    },
    {
      "cell_type": "code",
      "source": [
        "# TensorFlow kütüphanesinin sisteme dahil edilmesi ve veri setinin işleme alınması\n",
        "\n",
        "#!pip install pydot\n",
        "#!apt-get install graphviz\n",
        "!pip install tensorflow\n",
        "# Bu iki kütüphane ile oluşturulan yapay zeka modelinin yapısını çıktı alabileceğiz."
      ],
      "metadata": {
        "id": "LVo82M8E-DYs",
        "colab": {
          "base_uri": "https://localhost:8080/"
        },
        "outputId": "4446f319-f95f-415b-b02e-f158ae0fafce"
      },
      "execution_count": 74,
      "outputs": [
        {
          "output_type": "stream",
          "name": "stdout",
          "text": [
            "Requirement already satisfied: tensorflow in /usr/local/lib/python3.10/dist-packages (2.17.0)\n",
            "Requirement already satisfied: absl-py>=1.0.0 in /usr/local/lib/python3.10/dist-packages (from tensorflow) (1.4.0)\n",
            "Requirement already satisfied: astunparse>=1.6.0 in /usr/local/lib/python3.10/dist-packages (from tensorflow) (1.6.3)\n",
            "Requirement already satisfied: flatbuffers>=24.3.25 in /usr/local/lib/python3.10/dist-packages (from tensorflow) (24.3.25)\n",
            "Requirement already satisfied: gast!=0.5.0,!=0.5.1,!=0.5.2,>=0.2.1 in /usr/local/lib/python3.10/dist-packages (from tensorflow) (0.6.0)\n",
            "Requirement already satisfied: google-pasta>=0.1.1 in /usr/local/lib/python3.10/dist-packages (from tensorflow) (0.2.0)\n",
            "Requirement already satisfied: h5py>=3.10.0 in /usr/local/lib/python3.10/dist-packages (from tensorflow) (3.11.0)\n",
            "Requirement already satisfied: libclang>=13.0.0 in /usr/local/lib/python3.10/dist-packages (from tensorflow) (18.1.1)\n",
            "Requirement already satisfied: ml-dtypes<0.5.0,>=0.3.1 in /usr/local/lib/python3.10/dist-packages (from tensorflow) (0.4.1)\n",
            "Requirement already satisfied: opt-einsum>=2.3.2 in /usr/local/lib/python3.10/dist-packages (from tensorflow) (3.4.0)\n",
            "Requirement already satisfied: packaging in /usr/local/lib/python3.10/dist-packages (from tensorflow) (24.1)\n",
            "Requirement already satisfied: protobuf!=4.21.0,!=4.21.1,!=4.21.2,!=4.21.3,!=4.21.4,!=4.21.5,<5.0.0dev,>=3.20.3 in /usr/local/lib/python3.10/dist-packages (from tensorflow) (3.20.3)\n",
            "Requirement already satisfied: requests<3,>=2.21.0 in /usr/local/lib/python3.10/dist-packages (from tensorflow) (2.32.3)\n",
            "Requirement already satisfied: setuptools in /usr/local/lib/python3.10/dist-packages (from tensorflow) (75.1.0)\n",
            "Requirement already satisfied: six>=1.12.0 in /usr/local/lib/python3.10/dist-packages (from tensorflow) (1.16.0)\n",
            "Requirement already satisfied: termcolor>=1.1.0 in /usr/local/lib/python3.10/dist-packages (from tensorflow) (2.5.0)\n",
            "Requirement already satisfied: typing-extensions>=3.6.6 in /usr/local/lib/python3.10/dist-packages (from tensorflow) (4.12.2)\n",
            "Requirement already satisfied: wrapt>=1.11.0 in /usr/local/lib/python3.10/dist-packages (from tensorflow) (1.16.0)\n",
            "Requirement already satisfied: grpcio<2.0,>=1.24.3 in /usr/local/lib/python3.10/dist-packages (from tensorflow) (1.64.1)\n",
            "Requirement already satisfied: tensorboard<2.18,>=2.17 in /usr/local/lib/python3.10/dist-packages (from tensorflow) (2.17.0)\n",
            "Requirement already satisfied: keras>=3.2.0 in /usr/local/lib/python3.10/dist-packages (from tensorflow) (3.4.1)\n",
            "Requirement already satisfied: tensorflow-io-gcs-filesystem>=0.23.1 in /usr/local/lib/python3.10/dist-packages (from tensorflow) (0.37.1)\n",
            "Requirement already satisfied: numpy<2.0.0,>=1.23.5 in /usr/local/lib/python3.10/dist-packages (from tensorflow) (1.26.4)\n",
            "Requirement already satisfied: wheel<1.0,>=0.23.0 in /usr/local/lib/python3.10/dist-packages (from astunparse>=1.6.0->tensorflow) (0.44.0)\n",
            "Requirement already satisfied: rich in /usr/local/lib/python3.10/dist-packages (from keras>=3.2.0->tensorflow) (13.9.3)\n",
            "Requirement already satisfied: namex in /usr/local/lib/python3.10/dist-packages (from keras>=3.2.0->tensorflow) (0.0.8)\n",
            "Requirement already satisfied: optree in /usr/local/lib/python3.10/dist-packages (from keras>=3.2.0->tensorflow) (0.13.0)\n",
            "Requirement already satisfied: charset-normalizer<4,>=2 in /usr/local/lib/python3.10/dist-packages (from requests<3,>=2.21.0->tensorflow) (3.4.0)\n",
            "Requirement already satisfied: idna<4,>=2.5 in /usr/local/lib/python3.10/dist-packages (from requests<3,>=2.21.0->tensorflow) (3.10)\n",
            "Requirement already satisfied: urllib3<3,>=1.21.1 in /usr/local/lib/python3.10/dist-packages (from requests<3,>=2.21.0->tensorflow) (2.2.3)\n",
            "Requirement already satisfied: certifi>=2017.4.17 in /usr/local/lib/python3.10/dist-packages (from requests<3,>=2.21.0->tensorflow) (2024.8.30)\n",
            "Requirement already satisfied: markdown>=2.6.8 in /usr/local/lib/python3.10/dist-packages (from tensorboard<2.18,>=2.17->tensorflow) (3.7)\n",
            "Requirement already satisfied: tensorboard-data-server<0.8.0,>=0.7.0 in /usr/local/lib/python3.10/dist-packages (from tensorboard<2.18,>=2.17->tensorflow) (0.7.2)\n",
            "Requirement already satisfied: werkzeug>=1.0.1 in /usr/local/lib/python3.10/dist-packages (from tensorboard<2.18,>=2.17->tensorflow) (3.0.4)\n",
            "Requirement already satisfied: MarkupSafe>=2.1.1 in /usr/local/lib/python3.10/dist-packages (from werkzeug>=1.0.1->tensorboard<2.18,>=2.17->tensorflow) (3.0.2)\n",
            "Requirement already satisfied: markdown-it-py>=2.2.0 in /usr/local/lib/python3.10/dist-packages (from rich->keras>=3.2.0->tensorflow) (3.0.0)\n",
            "Requirement already satisfied: pygments<3.0.0,>=2.13.0 in /usr/local/lib/python3.10/dist-packages (from rich->keras>=3.2.0->tensorflow) (2.18.0)\n",
            "Requirement already satisfied: mdurl~=0.1 in /usr/local/lib/python3.10/dist-packages (from markdown-it-py>=2.2.0->rich->keras>=3.2.0->tensorflow) (0.1.2)\n"
          ]
        }
      ]
    },
    {
      "cell_type": "markdown",
      "source": [
        "TensorFlow kütüphanesi:\n",
        "!pip install tensorflow\n",
        "\n",
        "!pip install tensorflow-gpu\n",
        "\n"
      ],
      "metadata": {
        "id": "6hIKv5qN-GFU"
      }
    },
    {
      "cell_type": "code",
      "source": [
        "import tensorflow as tf\n",
        "from tensorflow.keras import layers, models\n",
        "from tensorflow.keras.datasets import mnist\n",
        "from tensorflow.keras.utils import plot_model\n",
        "\n",
        "(x_train, y_train), (x_test, y_test) = mnist.load_data() # MNIST veri setini yükleme\n",
        "x_train, x_test = x_train / 255.0, x_test / 255.0\n",
        "!pwd"
      ],
      "metadata": {
        "id": "0TZ2vioV-Gwz",
        "colab": {
          "base_uri": "https://localhost:8080/"
        },
        "outputId": "861ac05a-773d-4616-ae71-3b76baf445c7"
      },
      "execution_count": 75,
      "outputs": [
        {
          "output_type": "stream",
          "name": "stdout",
          "text": [
            "/content/drive/My Drive/YAPAYZEKA_PYTHON\n"
          ]
        }
      ]
    },
    {
      "cell_type": "markdown",
      "source": [
        "\n",
        "Yapay zeka modeli oluşturmada aşamalar;"
      ],
      "metadata": {
        "id": "CZBkjs2Q-L10"
      }
    },
    {
      "cell_type": "code",
      "source": [
        "\n",
        "model = models.Sequential([ # Modeli oluşturma\n",
        "    layers.Flatten(input_shape=(28, 28)),\n",
        "    layers.Dense(128, activation='relu'),\n",
        "    layers.Dropout(0.2),\n",
        "    layers.Dense(10, activation='softmax')\n",
        "])"
      ],
      "metadata": {
        "id": "eEou7ncS-Mes",
        "colab": {
          "base_uri": "https://localhost:8080/"
        },
        "outputId": "a588a371-f18e-4e4b-d4c0-8f0ab06af279"
      },
      "execution_count": 76,
      "outputs": [
        {
          "output_type": "stream",
          "name": "stderr",
          "text": [
            "/usr/local/lib/python3.10/dist-packages/keras/src/layers/reshaping/flatten.py:37: UserWarning: Do not pass an `input_shape`/`input_dim` argument to a layer. When using Sequential models, prefer using an `Input(shape)` object as the first layer in the model instead.\n",
            "  super().__init__(**kwargs)\n"
          ]
        }
      ]
    },
    {
      "cell_type": "markdown",
      "source": [
        "Modelin eğitim süreci\n",
        "model eğitim işlemi --> model.fit()\n",
        "model eğitim işlemi --> model.fit(x_train, y_train, ...)\n",
        "Eğitim Adım Sayısı --> epochs=5"
      ],
      "metadata": {
        "id": "Pi8SOsSS-RRL"
      }
    },
    {
      "cell_type": "code",
      "source": [
        "\n",
        "model.compile(optimizer='adam', # Modeli derleme\n",
        "              loss='sparse_categorical_crossentropy',\n",
        "              metrics=['accuracy'])\n",
        ""
      ],
      "metadata": {
        "id": "oBNtbtTkHWBX"
      },
      "execution_count": 77,
      "outputs": []
    },
    {
      "cell_type": "code",
      "source": [
        "model.fit(x_train, y_train, epochs=5) # Modeli Eğitilmesi Adımı\n",
        "# Modeli görselleştirmek ve çalışma alanına kaydetmek için plot_model kullanımı\n",
        "plot_model(model, to_file='YZ_Model/yz_tensoflow_model_ciktisi.png', show_shapes=True, show_layer_names=True) # Modelin Çıktısı\n"
      ],
      "metadata": {
        "id": "7JzIdWg9-Ryk",
        "colab": {
          "base_uri": "https://localhost:8080/",
          "height": 1000
        },
        "outputId": "c7072cc4-2337-4a50-face-17bdd014408a"
      },
      "execution_count": 78,
      "outputs": [
        {
          "output_type": "stream",
          "name": "stdout",
          "text": [
            "Epoch 1/5\n",
            "\u001b[1m1875/1875\u001b[0m \u001b[32m━━━━━━━━━━━━━━━━━━━━\u001b[0m\u001b[37m\u001b[0m \u001b[1m15s\u001b[0m 7ms/step - accuracy: 0.8595 - loss: 0.4884\n",
            "Epoch 2/5\n",
            "\u001b[1m1875/1875\u001b[0m \u001b[32m━━━━━━━━━━━━━━━━━━━━\u001b[0m\u001b[37m\u001b[0m \u001b[1m20s\u001b[0m 7ms/step - accuracy: 0.9572 - loss: 0.1461\n",
            "Epoch 3/5\n",
            "\u001b[1m1875/1875\u001b[0m \u001b[32m━━━━━━━━━━━━━━━━━━━━\u001b[0m\u001b[37m\u001b[0m \u001b[1m5s\u001b[0m 3ms/step - accuracy: 0.9668 - loss: 0.1131\n",
            "Epoch 4/5\n",
            "\u001b[1m1875/1875\u001b[0m \u001b[32m━━━━━━━━━━━━━━━━━━━━\u001b[0m\u001b[37m\u001b[0m \u001b[1m10s\u001b[0m 3ms/step - accuracy: 0.9732 - loss: 0.0864\n",
            "Epoch 5/5\n",
            "\u001b[1m1875/1875\u001b[0m \u001b[32m━━━━━━━━━━━━━━━━━━━━\u001b[0m\u001b[37m\u001b[0m \u001b[1m8s\u001b[0m 4ms/step - accuracy: 0.9779 - loss: 0.0719\n"
          ]
        },
        {
          "output_type": "execute_result",
          "data": {
            "image/png": "[encoded data removed]",
            "text/plain": [
              "<IPython.core.display.Image object>"
            ]
          },
          "metadata": {},
          "execution_count": 78
        }
      ]
    },
    {
      "cell_type": "code",
      "source": [
        "# Test seti üzerinde modelin performansını değerlendirme\n",
        "\n",
        "hata_oranı, basarı_oranı = model.evaluate(x_test, y_test, verbose=2)\n",
        "\n",
        "print(\" Modelin Doğruluk Oranı: %\", basarı_oranı*100)\n",
        "print(\" Modelin Hata Oranı: %\", hata_oranı*100)"
      ],
      "metadata": {
        "id": "Y6ebzjJ3_Ssc",
        "colab": {
          "base_uri": "https://localhost:8080/"
        },
        "outputId": "7cd213ed-f24f-432f-8cfd-0158cc2ae6f0"
      },
      "execution_count": 79,
      "outputs": [
        {
          "output_type": "stream",
          "name": "stdout",
          "text": [
            "313/313 - 0s - 2ms/step - accuracy: 0.9788 - loss: 0.0682\n",
            " Modelin Doğruluk Oranı: % 97.87999987602234\n",
            " Modelin Hata Oranı: % 6.818810850381851\n"
          ]
        }
      ]
    },
    {
      "cell_type": "markdown",
      "source": [
        "PyTorch kütüphanesi:\n",
        "!pip install torch torchvision torchaudio"
      ],
      "metadata": {
        "id": "FNZCKxuQ_WcE"
      }
    },
    {
      "cell_type": "code",
      "source": [
        "import torch\n",
        "import torch.nn as nn\n",
        "import torch.optim as optim\n",
        "from torchvision import datasets, transforms\n",
        "import matplotlib.pyplot as plt\n",
        "\n",
        "# MNIST veri setini yükleme\n",
        "transform = transforms.Compose([transforms.ToTensor(), transforms.Normalize((0.5,), (0.5,))])\n",
        "train_set = datasets.MNIST('./data', train=True, download=True, transform=transform)\n",
        "test_set = datasets.MNIST('./data', train=False, transform=transform)\n",
        "\n",
        "train_loader = torch.utils.data.DataLoader(train_set, batch_size=64, shuffle=True)\n",
        "test_loader = torch.utils.data.DataLoader(test_set, batch_size=64, shuffle=False)\n",
        "\n",
        "# Modeli oluşturma\n",
        "class Net(nn.Module):\n",
        "    def __init__(self):\n",
        "        super(Net, self).__init__()\n",
        "        self.fc1 = nn.Linear(28 * 28, 128)\n",
        "        self.fc2 = nn.Linear(128, 10)\n",
        "\n",
        "    def forward(self, x):\n",
        "        x = x.view(-1, 28 * 28)\n",
        "        x = torch.relu(self.fc1(x))\n",
        "        x = self.fc2(x)\n",
        "        return x\n",
        "\n",
        "model = Net()\n",
        "\n",
        "# Kayıp fonksiyonu ve optimizer\n",
        "criterion = nn.CrossEntropyLoss()\n",
        "optimizer = optim.SGD(model.parameters(), lr=0.01)\n",
        "\n",
        "# Eğitim için boş listeler tanımla\n",
        "train_losses = []\n",
        "train_accuracies = []\n",
        "\n",
        "# Eğitme döngüsü\n",
        "for epoch in range(50):  # 50 epoch boyunca eğit\n",
        "    running_loss = 0.0\n",
        "    correct = 0\n",
        "    total = 0\n",
        "\n",
        "    for images, labels in train_loader:\n",
        "        optimizer.zero_grad()\n",
        "        output = model(images)\n",
        "        loss = criterion(output, labels)\n",
        "        loss.backward()\n",
        "        optimizer.step()\n",
        "\n",
        "        # Kayıp (loss) değerini topla\n",
        "        running_loss += loss.item()\n",
        "\n",
        "        # Doğruluğu hesapla\n",
        "        _, predicted = torch.max(output, 1)\n",
        "        total += labels.size(0)\n",
        "        correct += (predicted == labels).sum().item()\n",
        "\n",
        "    # Her epoch sonunda ortalama kayıp ve doğruluk\n",
        "    epoch_loss = running_loss / len(train_loader)\n",
        "    epoch_accuracy = 100 * correct / total\n",
        "    train_losses.append(epoch_loss)\n",
        "    train_accuracies.append(epoch_accuracy)\n",
        "\n",
        "    print(f'Epoch {epoch+1}, Loss: {epoch_loss}, Accuracy: {epoch_accuracy}%')\n",
        "\n",
        "print('Eğitim tamamlandı!')\n",
        "\n",
        "# Eğitim sonuçlarını grafikle göster\n",
        "epochs = range(1, 51)  # 50 epoch olduğu için 1'den 51'ya kadar olan epoch'lar\n",
        "plt.figure(figsize=(12, 5))\n",
        "\n",
        "# Kayıp grafiği\n",
        "plt.subplot(1, 2, 1)\n",
        "plt.plot(epochs, train_losses, 'bo-', label='Eğitim Kaybı (Loss)')\n",
        "plt.title('Eğitim Kaybı')\n",
        "plt.xlabel('Epochs')\n",
        "plt.ylabel('Loss')\n",
        "plt.legend()\n",
        "\n",
        "# Doğruluk grafiği\n",
        "plt.subplot(1, 2, 2)\n",
        "plt.plot(epochs, train_accuracies, 'go-', label='Eğitim Doğruluğu (Accuracy)')\n",
        "plt.title('Eğitim Doğruluğu')\n",
        "plt.xlabel('Epochs')\n",
        "plt.ylabel('Accuracy (%)')\n",
        "plt.legend()\n",
        "\n",
        "plt.tight_layout()\n",
        "plt.show()"
      ],
      "metadata": {
        "colab": {
          "base_uri": "https://localhost:8080/"
        },
        "id": "ptIeBcN0_U9j",
        "outputId": "bfedc1b8-8b13-4ef5-bfac-0ff5ffda5090"
      },
      "execution_count": null,
      "outputs": [
        {
          "output_type": "stream",
          "name": "stdout",
          "text": [
            "Epoch 1, Loss: 0.7485404003467133, Accuracy: 81.925%\n",
            "Epoch 2, Loss: 0.3667425487134884, Accuracy: 89.495%\n",
            "Epoch 3, Loss: 0.3205495578234892, Accuracy: 90.77166666666666%\n",
            "Epoch 4, Loss: 0.2940133044174485, Accuracy: 91.52666666666667%\n",
            "Epoch 5, Loss: 0.27224844529716447, Accuracy: 92.16%\n",
            "Epoch 6, Loss: 0.2536596860299741, Accuracy: 92.66%\n",
            "Epoch 7, Loss: 0.236780041741378, Accuracy: 93.27%\n",
            "Epoch 8, Loss: 0.22152998714622404, Accuracy: 93.69333333333333%\n",
            "Epoch 9, Loss: 0.2079072199833355, Accuracy: 94.10333333333334%\n",
            "Epoch 10, Loss: 0.19547538175336968, Accuracy: 94.45%\n",
            "Epoch 11, Loss: 0.18407951613892115, Accuracy: 94.81%\n",
            "Epoch 12, Loss: 0.17419662073588194, Accuracy: 95.03833333333333%\n",
            "Epoch 13, Loss: 0.1648732992425275, Accuracy: 95.32333333333334%\n",
            "Epoch 14, Loss: 0.15632898591037817, Accuracy: 95.54333333333334%\n",
            "Epoch 15, Loss: 0.14920963225032347, Accuracy: 95.77%\n",
            "Epoch 16, Loss: 0.1424703348253264, Accuracy: 95.96333333333334%\n",
            "Epoch 17, Loss: 0.13609156274655734, Accuracy: 96.18333333333334%\n",
            "Epoch 18, Loss: 0.13013785105468686, Accuracy: 96.32833333333333%\n",
            "Epoch 19, Loss: 0.12453018869164148, Accuracy: 96.49666666666667%\n",
            "Epoch 20, Loss: 0.11971231861742956, Accuracy: 96.57%\n",
            "Epoch 21, Loss: 0.11521246834699787, Accuracy: 96.80166666666666%\n",
            "Epoch 22, Loss: 0.11138435254997409, Accuracy: 96.86833333333334%\n",
            "Epoch 23, Loss: 0.10680968380137992, Accuracy: 97.02666666666667%\n",
            "Epoch 24, Loss: 0.10356558053029467, Accuracy: 97.135%\n",
            "Epoch 25, Loss: 0.09991571334486546, Accuracy: 97.18833333333333%\n",
            "Epoch 26, Loss: 0.09665392132511716, Accuracy: 97.27333333333333%\n",
            "Epoch 27, Loss: 0.09360482431014877, Accuracy: 97.41%\n",
            "Epoch 28, Loss: 0.0909124597507928, Accuracy: 97.47166666666666%\n",
            "Epoch 29, Loss: 0.08814338085327003, Accuracy: 97.60333333333334%\n",
            "Epoch 30, Loss: 0.08565479477863512, Accuracy: 97.64333333333333%\n",
            "Epoch 31, Loss: 0.08328019130700973, Accuracy: 97.69666666666667%\n",
            "Epoch 32, Loss: 0.08108947119181122, Accuracy: 97.80166666666666%\n",
            "Epoch 33, Loss: 0.07868439215781496, Accuracy: 97.83%\n",
            "Epoch 34, Loss: 0.07654281065904542, Accuracy: 97.955%\n",
            "Epoch 35, Loss: 0.07488357561972064, Accuracy: 97.955%\n",
            "Epoch 36, Loss: 0.07284203093491003, Accuracy: 98.02333333333333%\n",
            "Epoch 37, Loss: 0.07125705934818714, Accuracy: 98.05333333333333%\n",
            "Epoch 38, Loss: 0.0690890793323215, Accuracy: 98.195%\n",
            "Epoch 39, Loss: 0.06766182842301026, Accuracy: 98.16%\n",
            "Epoch 40, Loss: 0.06602657382001183, Accuracy: 98.23833333333333%\n",
            "Epoch 41, Loss: 0.06417811321549372, Accuracy: 98.30666666666667%\n",
            "Epoch 42, Loss: 0.06284200501685808, Accuracy: 98.32666666666667%\n"
          ]
        }
      ]
    },
    {
      "cell_type": "code",
      "source": [
        "# Test verisi üzerinde modelin performansını değerlendirme\n",
        "test_loss = 0.0\n",
        "correct = 0\n",
        "total = 0\n",
        "\n",
        "# Test verisi üzerinde modelin kaybını ve doğruluğunu hesapla (gradyan hesaplama yok)\n",
        "with torch.no_grad():\n",
        "    for images, labels in test_loader:\n",
        "        output = model(images)\n",
        "        loss = criterion(output, labels)\n",
        "        test_loss += loss.item()\n",
        "\n",
        "        _, predicted = torch.max(output, 1)\n",
        "        total += labels.size(0)\n",
        "        correct += (predicted == labels).sum().item()\n",
        "\n",
        "# Test seti kaybı ve doğruluğu\n",
        "test_loss /= len(test_loader)\n",
        "test_accuracy = 100 * correct / total\n",
        "\n",
        "print(\"Test Seti Kaybı: \", test_loss)\n",
        "print(\"Test Seti Doğruluğu: \", test_accuracy , \"%\")"
      ],
      "metadata": {
        "id": "KU2mTPq__dY6"
      },
      "execution_count": null,
      "outputs": []
    },
    {
      "cell_type": "markdown",
      "source": [
        "Keras kütüphanesi:\n",
        "!pip install keras"
      ],
      "metadata": {
        "id": "Mz7smUaV_fVi"
      }
    },
    {
      "cell_type": "code",
      "source": [
        "from tensorflow.keras.models import Sequential\n",
        "from tensorflow.keras.layers import Dense\n",
        "\n",
        "# Modeli oluşturma\n",
        "model = Sequential()\n",
        "model.add(Dense(128, activation='relu', input_shape=(28*28,)))\n",
        "model.add(Dense(10, activation='softmax'))\n",
        "\n",
        "# Modeli derleme\n",
        "model.compile(optimizer='adam', loss='categorical_crossentropy', metrics=['accuracy'])\n",
        "\n",
        "# Eğitme\n",
        "model.fit(x_train, y_train, epochs=5)\n"
      ],
      "metadata": {
        "id": "73pZ-eSn_hTC"
      },
      "execution_count": null,
      "outputs": []
    }
  ]
}